{
 "cells": [
  {
   "cell_type": "code",
   "execution_count": 12,
   "metadata": {},
   "outputs": [
    {
     "name": "stdout",
     "output_type": "stream",
     "text": [
      "\n",
      "0xab0x00x00x10x430x610x6c0x630x750x6c0x610x640x6f0x720x610x4b\n"
     ]
    }
   ],
   "source": [
    "\n",
    "binary_data = bytearray([171, 0, 0, 1, 67, 97, 108, 99, 117, 108, 97, 100, 111, 114, 97, 75])  #utf-8 no puede decodificar 2 caracteres juntos [171] --> AB\n",
    "# text = binary_data.decode('utf-8')\n",
    "palabra = ''\n",
    "nuevo = []\n",
    "nuevo2 = ''\n",
    "\n",
    "print()\n",
    "for i in range (len(binary_data)):\n",
    "    nuevo2+=hex(binary_data[i])\n",
    "\n",
    "    # if (nuevo == '0x'): \n",
    "    #     continue\n",
    "    # else: palabra += nuevo \n",
    "# final = nuevo.split(\"0x\")\n",
    "print((nuevo2))\n",
    "\n"
   ]
  },
  {
   "cell_type": "code",
   "execution_count": 13,
   "metadata": {},
   "outputs": [
    {
     "name": "stdout",
     "output_type": "stream",
     "text": [
      "mensaje de Trama:  [171, 0, 0, 1, 67, 97, 108, 99, 117, 108, 97, 100, 111, 114, 97, 75]\n",
      "encode:  [171, 0, 0, 1, 67, 97, 108, 99, 117, 108, 97, 100, 111, 114, 97, 75]\n",
      "PEPEITO:  16\n",
      "mensaje recibido:  ['«', '\\x00', '\\x00', '\\x01', 'C', 'a', 'l', 'c', 'u', 'l', 'a', 'd', 'o', 'r', 'a', 'K']\n"
     ]
    }
   ],
   "source": [
    "import serial          # manejo de puerto serie  \n",
    "\n",
    "ser = serial.serial_for_url('loop://', timeout=1)\n",
    "\n",
    "ser.isOpen()\n",
    "ser.timeout=None\n",
    "ser.flushInput()\n",
    "ser.flushOutput()\n",
    "\n",
    "trama = [171, 0, 0, 1, 67, 97, 108, 99, 117, 108, 97, 100, 111, 114, 97, 75]\n",
    "#cabecera = 'A4001'\n",
    "#mensaje = b'ab00000143616c63756c61646f72614b'\n",
    "#cola = '44'\n",
    "#trama = cabecera+mensaje+cola #juntade la trama completa\n",
    "# trama = mensaje\n",
    "print(\"mensaje de Trama: \", trama)\n",
    "\n",
    "#CODIFICANDO EL MENSAJ\n",
    "mensaje = ser.write(trama)\n",
    "print(\"encode: \", trama) #Mensaje codificado\n",
    "\n",
    "# HEX_t = trama.hex()     #Vemos el valor en HEX()\n",
    "# print(\"Mensaje en Hex:\", HEX_t)\n",
    "\n",
    "#DECODIFICACION DEL MENSAJE\n",
    "#recibido = mensaje.decode('utf-8')\n",
    "fin = \"\"\n",
    "print(\"PEPEITO: \",ser.inWaiting())\n",
    "read_data = []\n",
    "while ser.inWaiting() > 0:\n",
    "          \n",
    "        # read_data = ser.read(1)     #leemos de a 1byte (1 carcter) a la vez\n",
    "       read_data.append(chr(ord(ser.read(1)))) \n",
    "\n",
    "print(\"mensaje recibido: \",read_data)      "
   ]
  },
  {
   "cell_type": "code",
   "execution_count": 14,
   "metadata": {},
   "outputs": [
    {
     "name": "stdout",
     "output_type": "stream",
     "text": [
      "b'Hello'\n",
      "<class 'bytes'>\n",
      "Uryyb\n"
     ]
    }
   ],
   "source": [
    "# Text to Binary\n",
    "message = \"Hello\"  # str\n",
    "binary_message = message.encode('utf-8')\n",
    "print(binary_message)\n",
    "print(type(binary_message))  # bytes\n",
    "\n",
    "# Python has many built in encodings for different languages,\n",
    "# and even the Caeser cipher is built in\n",
    "import codecs\n",
    "cipher_text = codecs.encode(message, 'rot_13')\n",
    "print(cipher_text)"
   ]
  },
  {
   "cell_type": "code",
   "execution_count": 15,
   "metadata": {},
   "outputs": [
    {
     "name": "stdout",
     "output_type": "stream",
     "text": [
      "I am text.\n"
     ]
    }
   ],
   "source": [
    "# Binary to Text\n",
    "binary_data = b'I am text.'\n",
    "text = binary_data.decode('utf-8')\n",
    "print(text)"
   ]
  },
  {
   "cell_type": "code",
   "execution_count": 24,
   "metadata": {},
   "outputs": [
    {
     "name": "stdout",
     "output_type": "stream",
     "text": [
      "Trama corta en Hex:  b'\\xa8\\x00\\x00\\x0101800003H'\n",
      "la trama en list es:  [168, 0, 0, 1, 48, 49, 56, 48, 48, 48, 48, 51, 72]\n",
      "tamaño: 13\n",
      "encode:  [168, 0, 0, 1, 48, 49, 56, 48, 48, 48, 48, 51, 72]\n",
      "mensaje recibido:  01800003\n"
     ]
    }
   ],
   "source": [
    "#################FINAL###########################\n",
    "\n",
    "import binascii\n",
    "#Manejo de puerto serie\n",
    "import serial  \n",
    "\n",
    "ser = serial.serial_for_url('loop://', timeout=1)\n",
    "\n",
    "ser.isOpen()\n",
    "ser.timeout=None\n",
    "ser.flushInput()\n",
    "ser.flushOutput()\n",
    "\n",
    "# binary_data = b'\\xab\\x00\\x00\\x01CalculadoraK'\n",
    "# aux = str(hex(0xA0+eval(hex(len(dato))))).split(\"0x\")[1]\n",
    "# cola = chr(0x40+eval(hex(len(dato)))).encode()\n",
    "# list_compare = [171, 0, 0, 1, 67, 97, 108, 99, 117, 108, 97, 100, 111, 114, 97, 75]\n",
    "\n",
    "def Codificacion(entrada, dispositivo):\n",
    "\n",
    "    dato = entrada.encode()\n",
    "\n",
    "    if (len(entrada)<=15):\n",
    "        cabecera = binascii.unhexlify(str(hex(0xA0+eval(hex(len(dato))))).split(\"0x\")[1])\n",
    "        high = b'\\x00'\n",
    "        low  = b'\\x00'\n",
    "        dispo = binascii.unhexlify(dispositivo)\n",
    "        cola = binascii.unhexlify(str(hex(0x40+eval(hex(len(dato))))).split(\"0x\")[1])\n",
    "        \n",
    "        Hex_trama = cabecera + high + low + dispo + dato + cola\n",
    "\n",
    "        print(\"Trama corta en Hex: \", Hex_trama)\n",
    "        trama_list = list(Hex_trama)\n",
    "\n",
    "    if (len(entrada)>15):\n",
    "\n",
    "        cabecera = b'\\xB0'\n",
    "        cola = b'\\x50'\n",
    "        high = b'\\x01'\n",
    "        low  = b'\\xff' \n",
    "        dispo = binascii.unhexlify(dispositivo)\n",
    "\n",
    "        Hex_trama_large = cabecera + high + low + dispo + dato + cola\n",
    "\n",
    "        print(\"Trama larga en Hex: \", Hex_trama_large)\n",
    "        trama_list = list(Hex_trama_large)\n",
    "        \n",
    "    return trama_list \n",
    "\n",
    "\n",
    "def Decodificacion(trama):\n",
    "\n",
    "    #CODIFICANDO EL MENSAJE\n",
    "    mensaje = ser.write(trama)\n",
    "    print(\"tamaño:\", mensaje)\n",
    "    print(\"encode: \", trama) #Mensaje codificado\n",
    "\n",
    "\n",
    "    large = ser.inWaiting()\n",
    "    cabecera = 4\n",
    "    read_data = []\n",
    "    opc = ''\n",
    "\n",
    "    while (ser.inWaiting() > 0):  \n",
    "        read_data.append(chr(ord(ser.read(1))))\n",
    "\n",
    "    opc = \"\".join(read_data[cabecera:large-1])\n",
    "\n",
    "    print(\"mensaje recibido: \",opc)\n",
    "\n",
    "    return opc  \n",
    "\n",
    "#main()\n",
    "decode = ''\n",
    "entrada = input(\"Ingrese algo: \")\n",
    "dispositivo = '01'\n",
    "trama = Codificacion(entrada, dispositivo)\n",
    "print(\"la trama en list es: \", trama)\n",
    "\n",
    "decode = Decodificacion(trama)\n",
    "\n",
    "if (decode == 'graficadora'): print(\"Estas en graficadora\") \n",
    "if (decode == 'calculadora'): print(\"Estas en calculadora\")\n"
   ]
  },
  {
   "cell_type": "code",
   "execution_count": 17,
   "metadata": {},
   "outputs": [
    {
     "name": "stdout",
     "output_type": "stream",
     "text": [
      "encode:  [171, 0, 0, 1, 103, 114, 97, 102, 105, 99, 97, 100, 111, 114, 97, 75]\n",
      "Estas en graficadora\n",
      "mensaje recibido:  graficadora\n"
     ]
    }
   ],
   "source": [
    "############################# IMPORTANTE PARA LA DECODIFICACION#############################\n",
    "\n",
    "#Manejo de puerto serie\n",
    "import serial  \n",
    "\n",
    "ser = serial.serial_for_url('loop://', timeout=1)\n",
    "\n",
    "ser.isOpen()\n",
    "ser.timeout=None\n",
    "ser.flushInput()\n",
    "ser.flushOutput()\n",
    "\n",
    "trama  = [171, 0, 0, 1, 103, 114, 97, 102, 105, 99, 97, 100, 111, 114, 97, 75]\n",
    "trama1 = [171, 0, 0, 1, 99, 97, 108, 99, 117, 108, 97, 100, 111, 114, 97, 75]\n",
    "\n",
    "#CODIFICANDO EL MENSAJE\n",
    "mensaje = ser.write(trama)\n",
    "print(\"encode: \", trama) #Mensaje codificado\n",
    "\n",
    "\n",
    "large = ser.inWaiting()\n",
    "cabecera = 4\n",
    "read_data = []\n",
    "opc = ''\n",
    "\n",
    "while (ser.inWaiting() > 0):  \n",
    "        read_data.append(chr(ord(ser.read(1))))\n",
    "\n",
    "opc = \"\".join(read_data[cabecera:large-1])\n",
    "\n",
    "if (opc == 'graficadora'): print(\"Estas en graficadora\") \n",
    "if (opc == 'calculadora'): print(\"Estas en calculadora\")        \n",
    "\n",
    "print(\"mensaje recibido: \",opc)   \n",
    "\n"
   ]
  },
  {
   "cell_type": "code",
   "execution_count": 7,
   "metadata": {},
   "outputs": [
    {
     "ename": "AttributeError",
     "evalue": "'int' object has no attribute 'encode'",
     "output_type": "error",
     "traceback": [
      "\u001b[0;31m---------------------------------------------------------------------------\u001b[0m",
      "\u001b[0;31mAttributeError\u001b[0m                            Traceback (most recent call last)",
      "\u001b[1;32m/home/danielito/Escritorio/Tarpuy/Procom/Curso de Diseño Digital/Practico/3_Practico/Pruebas/pruebas.ipynb Celda 7\u001b[0m in \u001b[0;36m<cell line: 10>\u001b[0;34m()\u001b[0m\n\u001b[1;32m      <a href='vscode-notebook-cell:/home/danielito/Escritorio/Tarpuy/Procom/Curso%20de%20Dise%C3%B1o%20Digital/Practico/3_Practico/Pruebas/pruebas.ipynb#W6sZmlsZQ%3D%3D?line=6'>7</a>\u001b[0m ser\u001b[39m.\u001b[39mflushOutput()\n\u001b[1;32m      <a href='vscode-notebook-cell:/home/danielito/Escritorio/Tarpuy/Procom/Curso%20de%20Dise%C3%B1o%20Digital/Practico/3_Practico/Pruebas/pruebas.ipynb#W6sZmlsZQ%3D%3D?line=8'>9</a>\u001b[0m A \u001b[39m=\u001b[39m \u001b[39m0XAB\u001b[39m\n\u001b[0;32m---> <a href='vscode-notebook-cell:/home/danielito/Escritorio/Tarpuy/Procom/Curso%20de%20Dise%C3%B1o%20Digital/Practico/3_Practico/Pruebas/pruebas.ipynb#W6sZmlsZQ%3D%3D?line=9'>10</a>\u001b[0m A\u001b[39m.\u001b[39;49mencode(\u001b[39m'\u001b[39m\u001b[39mutf-8\u001b[39m\u001b[39m'\u001b[39m)\n\u001b[1;32m     <a href='vscode-notebook-cell:/home/danielito/Escritorio/Tarpuy/Procom/Curso%20de%20Dise%C3%B1o%20Digital/Practico/3_Practico/Pruebas/pruebas.ipynb#W6sZmlsZQ%3D%3D?line=10'>11</a>\u001b[0m \u001b[39mprint\u001b[39m(A)\n\u001b[1;32m     <a href='vscode-notebook-cell:/home/danielito/Escritorio/Tarpuy/Procom/Curso%20de%20Dise%C3%B1o%20Digital/Practico/3_Practico/Pruebas/pruebas.ipynb#W6sZmlsZQ%3D%3D?line=11'>12</a>\u001b[0m ser\u001b[39m.\u001b[39mwrite(A)\n",
      "\u001b[0;31mAttributeError\u001b[0m: 'int' object has no attribute 'encode'"
     ]
    }
   ],
   "source": [
    "import serial\n",
    "ser = serial.serial_for_url('loop://', timeout=1)\n",
    "\n",
    "ser.isOpen()\n",
    "ser.timeout=None\n",
    "ser.flushInput()\n",
    "ser.flushOutput()\n",
    "\n",
    "A = 0XAB\n",
    "A.encode('utf-8')\n",
    "print(A)\n",
    "ser.write(A)\n",
    "B = []\n",
    "print(ser.inWaiting())\n",
    "while ser.inWaiting() > 0:\n",
    "          \n",
    "    B.append(ord(ser.read(1)))\n",
    "print(B)    \n",
    "if(B[0]== 0XA4): print(\"hola\")\n"
   ]
  },
  {
   "cell_type": "code",
   "execution_count": null,
   "metadata": {},
   "outputs": [
    {
     "name": "stdout",
     "output_type": "stream",
     "text": [
      "Hola1:  bytearray(b'\\xab\\x00\\x00\\x01HolaD\\xff')\n",
      "HOla2:  ab000001486f6c6144ff\n",
      "HOla3:  b'\\xab\\x00\\x00\\x01HolaD\\xff'\n"
     ]
    }
   ],
   "source": [
    "import binascii\n",
    "# Cast bytes to bytearray\n",
    "mutable_bytes = bytearray(b'\\xa4\\x00\\x00\\x01HolaD')\n",
    "\n",
    "# Bytearray allows modification\n",
    "mutable_bytes[0] = 171\n",
    "mutable_bytes.append(255)\n",
    "\n",
    "hex_data = binascii.hexlify(mutable_bytes)  # Two bytes values 0 and 255\n",
    "print(\"Hola1: \", mutable_bytes)\n",
    "# The resulting value will be an ASCII string but it will be a bytes type\n",
    "# It may be necessary to decode it to a regular string\n",
    "text_string = hex_data.decode('utf-8')  # Result is string \"00ff\"\n",
    "print(\"HOla2: \", text_string)\n",
    "\n",
    "# Cast bytearray back to bytes\n",
    "immutable_bytes = bytes(mutable_bytes)\n",
    "print(\"HOla3: \", immutable_bytes)"
   ]
  },
  {
   "cell_type": "code",
   "execution_count": 20,
   "metadata": {},
   "outputs": [
    {
     "name": "stdout",
     "output_type": "stream",
     "text": [
      "b'\\x02I'\n",
      "Trama corta en Hex:  b'\\xa2\\x00\\x00\\x01\\x02IB'\n",
      "la trama en list es:  [162, 0, 0, 1, 2, 73, 66]\n",
      "tamaño: 7\n",
      "encode:  [162, 0, 0, 1, 2, 73, 66]\n",
      "mensaje recibido:  \u0002I\n"
     ]
    }
   ],
   "source": [
    "#################FINAL###########################\n",
    "\n",
    "import binascii\n",
    "#Manejo de puerto serie\n",
    "import serial  \n",
    "\n",
    "ser = serial.serial_for_url('loop://', timeout=1)\n",
    "\n",
    "ser.isOpen()\n",
    "ser.timeout=None\n",
    "ser.flushInput()\n",
    "ser.flushOutput()\n",
    "\n",
    "high_byte_red   = b'\\x02'\n",
    "low_byte_red    = b'\\x49'\n",
    "\n",
    "high_byte_blue  = b'\\x04'\n",
    "low_byte_blue   = b'\\x92'\n",
    "\n",
    "high_byte_green = b'\\x09'\n",
    "low_byte_green  = b'\\x24'\n",
    "\n",
    "high_byte_state = b'\\x00' \n",
    "low_byte_state  = b'\\x01'\n",
    "\n",
    "def Codificacion(byte_high, byte_low, dispositivo):\n",
    "\n",
    "    data = byte_high+byte_low\n",
    "\n",
    "    print(data)\n",
    "    if (len(entrada)<=15):\n",
    "        cabecera = binascii.unhexlify(str(hex(0xA0+eval(hex(len(data))))).split(\"0x\")[1])\n",
    "        high = b'\\x00'\n",
    "        low  = b'\\x00'\n",
    "        dispo = binascii.unhexlify(dispositivo)\n",
    "        cola = binascii.unhexlify(str(hex(0x40+eval(hex(len(data))))).split(\"0x\")[1])\n",
    "        \n",
    "        Hex_trama = cabecera + high + low + dispo + data + cola\n",
    "\n",
    "        print(\"Trama corta en Hex: \", Hex_trama)\n",
    "        trama_list = list(Hex_trama)\n",
    "\n",
    "    if (len(entrada)>15):\n",
    "        mensaje = byte_high+byte_low\n",
    "        cabecera = b'\\xB0'\n",
    "        cola = b'\\x50'\n",
    "        high = b'\\x01'\n",
    "        low  = b'\\xff' \n",
    "        dispo = binascii.unhexlify(dispositivo)\n",
    "\n",
    "        Hex_trama_large = cabecera + high + low + dispo + data + cola\n",
    "\n",
    "        print(\"Trama larga en Hex: \", Hex_trama_large)\n",
    "        trama_list = list(Hex_trama_large)\n",
    "        \n",
    "    return trama_list \n",
    "\n",
    "\n",
    "def Decodificacion(trama):\n",
    "\n",
    "    #CODIFICANDO EL MENSAJE\n",
    "    mensaje = ser.write(trama)\n",
    "    print(\"tamaño:\", mensaje)\n",
    "    print(\"encode: \", trama) #Mensaje codificado\n",
    "\n",
    "\n",
    "    large = ser.inWaiting()\n",
    "    cabecera = 4\n",
    "    read_data = []\n",
    "    opc = ''\n",
    "\n",
    "    while (ser.inWaiting() > 0):  \n",
    "        read_data.append(chr(ord(ser.read(1))))\n",
    "\n",
    "    opc = \"\".join(read_data[cabecera:large-1])\n",
    "\n",
    "    print(\"mensaje recibido: \",opc)\n",
    "\n",
    "    return opc  \n",
    "\n",
    "#main()\n",
    "decode = ''\n",
    "entrada = input(\"Ingrese algo: \")\n",
    "dispositivo = '01'\n",
    "\n",
    "if (entrada == 'rojo'  ): trama = Codificacion(high_byte_red,low_byte_red, dispositivo) \n",
    "if (entrada == 'azul'  ): trama = Codificacion(high_byte_blue,low_byte_blue, dispositivo)\n",
    "if (entrada == 'verde' ): trama = Codificacion(high_byte_green,low_byte_green, dispositivo)\n",
    "if (entrada == 'estado'): trama = Codificacion(high_byte_state,low_byte_state, dispositivo)\n",
    "\n",
    "print(\"la trama en list es: \", trama)\n",
    "\n",
    "decode = Decodificacion(trama)\n",
    "\n"
   ]
  },
  {
   "cell_type": "code",
   "execution_count": null,
   "metadata": {},
   "outputs": [],
   "source": []
  }
 ],
 "metadata": {
  "kernelspec": {
   "display_name": "Python 3.8.10 64-bit",
   "language": "python",
   "name": "python3"
  },
  "language_info": {
   "codemirror_mode": {
    "name": "ipython",
    "version": 3
   },
   "file_extension": ".py",
   "mimetype": "text/x-python",
   "name": "python",
   "nbconvert_exporter": "python",
   "pygments_lexer": "ipython3",
   "version": "3.8.10"
  },
  "orig_nbformat": 4,
  "vscode": {
   "interpreter": {
    "hash": "916dbcbb3f70747c44a77c7bcd40155683ae19c65e1c03b4aa3499c5328201f1"
   }
  }
 },
 "nbformat": 4,
 "nbformat_minor": 2
}
